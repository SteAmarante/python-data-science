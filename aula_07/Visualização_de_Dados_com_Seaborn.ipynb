{
  "nbformat": 4,
  "nbformat_minor": 0,
  "metadata": {
    "colab": {
      "provenance": [],
      "authorship_tag": "ABX9TyOBdP6F/BBgR+sGkKOKHFSE",
      "include_colab_link": true
    },
    "kernelspec": {
      "name": "python3",
      "display_name": "Python 3"
    },
    "language_info": {
      "name": "python"
    }
  },
  "cells": [
    {
      "cell_type": "markdown",
      "metadata": {
        "id": "view-in-github",
        "colab_type": "text"
      },
      "source": [
        "<a href=\"https://colab.research.google.com/github/SteAmarante/python-data-science/blob/main/aula_07/Visualiza%C3%A7%C3%A3o_de_Dados_com_Seaborn.ipynb\" target=\"_parent\"><img src=\"https://colab.research.google.com/assets/colab-badge.svg\" alt=\"Open In Colab\"/></a>"
      ]
    },
    {
      "cell_type": "markdown",
      "source": [
        "#Visualização de Dados com Seaborn"
      ],
      "metadata": {
        "id": "FZCHo48-QAmT"
      }
    },
    {
      "cell_type": "code",
      "source": [
        "import pandas as pd\n",
        "import matplotlib.pyplot as plt\n",
        "import seaborn as sns\n",
        "df = pd.read_csv(\"/content/vinhos.csv\")\n",
        "df"
      ],
      "metadata": {
        "colab": {
          "base_uri": "https://localhost:8080/",
          "height": 423
        },
        "id": "Dtdz2z4iIPNO",
        "outputId": "25f742a0-9382-4faf-c41b-5c29e3956310"
      },
      "execution_count": 3,
      "outputs": [
        {
          "output_type": "execute_result",
          "data": {
            "text/plain": [
              "       year  month location location_type    category grape_type  volume_hl  \\\n",
              "0      2015      1       AC  Brazil_State  Production      Table        910   \n",
              "1      2015      1       AC  Brazil_State  Production       Wine       3822   \n",
              "2      2015      1       AC  Brazil_State  Production  Sparkling        516   \n",
              "3      2015      1       AC  Brazil_State       Sales      Table       3494   \n",
              "4      2015      1       AC  Brazil_State       Sales       Wine        180   \n",
              "...     ...    ...      ...           ...         ...        ...        ...   \n",
              "26635  2024     12    China       Country      Import       Wine       3574   \n",
              "26636  2024     12    China       Country      Import  Sparkling        825   \n",
              "26637  2024     12    China       Country      Export      Table       2115   \n",
              "26638  2024     12    China       Country      Export       Wine       2107   \n",
              "26639  2024     12    China       Country      Export  Sparkling       6813   \n",
              "\n",
              "       value_usd  \n",
              "0        1782.31  \n",
              "1       11435.90  \n",
              "2         902.97  \n",
              "3       10491.74  \n",
              "4         279.26  \n",
              "...          ...  \n",
              "26635   12650.27  \n",
              "26636    3844.02  \n",
              "26637    6153.84  \n",
              "26638    9355.02  \n",
              "26639   23101.92  \n",
              "\n",
              "[26640 rows x 8 columns]"
            ],
            "text/html": [
              "\n",
              "  <div id=\"df-c297f227-64ce-46c9-a7c2-a68c6b5b2cfb\" class=\"colab-df-container\">\n",
              "    <div>\n",
              "<style scoped>\n",
              "    .dataframe tbody tr th:only-of-type {\n",
              "        vertical-align: middle;\n",
              "    }\n",
              "\n",
              "    .dataframe tbody tr th {\n",
              "        vertical-align: top;\n",
              "    }\n",
              "\n",
              "    .dataframe thead th {\n",
              "        text-align: right;\n",
              "    }\n",
              "</style>\n",
              "<table border=\"1\" class=\"dataframe\">\n",
              "  <thead>\n",
              "    <tr style=\"text-align: right;\">\n",
              "      <th></th>\n",
              "      <th>year</th>\n",
              "      <th>month</th>\n",
              "      <th>location</th>\n",
              "      <th>location_type</th>\n",
              "      <th>category</th>\n",
              "      <th>grape_type</th>\n",
              "      <th>volume_hl</th>\n",
              "      <th>value_usd</th>\n",
              "    </tr>\n",
              "  </thead>\n",
              "  <tbody>\n",
              "    <tr>\n",
              "      <th>0</th>\n",
              "      <td>2015</td>\n",
              "      <td>1</td>\n",
              "      <td>AC</td>\n",
              "      <td>Brazil_State</td>\n",
              "      <td>Production</td>\n",
              "      <td>Table</td>\n",
              "      <td>910</td>\n",
              "      <td>1782.31</td>\n",
              "    </tr>\n",
              "    <tr>\n",
              "      <th>1</th>\n",
              "      <td>2015</td>\n",
              "      <td>1</td>\n",
              "      <td>AC</td>\n",
              "      <td>Brazil_State</td>\n",
              "      <td>Production</td>\n",
              "      <td>Wine</td>\n",
              "      <td>3822</td>\n",
              "      <td>11435.90</td>\n",
              "    </tr>\n",
              "    <tr>\n",
              "      <th>2</th>\n",
              "      <td>2015</td>\n",
              "      <td>1</td>\n",
              "      <td>AC</td>\n",
              "      <td>Brazil_State</td>\n",
              "      <td>Production</td>\n",
              "      <td>Sparkling</td>\n",
              "      <td>516</td>\n",
              "      <td>902.97</td>\n",
              "    </tr>\n",
              "    <tr>\n",
              "      <th>3</th>\n",
              "      <td>2015</td>\n",
              "      <td>1</td>\n",
              "      <td>AC</td>\n",
              "      <td>Brazil_State</td>\n",
              "      <td>Sales</td>\n",
              "      <td>Table</td>\n",
              "      <td>3494</td>\n",
              "      <td>10491.74</td>\n",
              "    </tr>\n",
              "    <tr>\n",
              "      <th>4</th>\n",
              "      <td>2015</td>\n",
              "      <td>1</td>\n",
              "      <td>AC</td>\n",
              "      <td>Brazil_State</td>\n",
              "      <td>Sales</td>\n",
              "      <td>Wine</td>\n",
              "      <td>180</td>\n",
              "      <td>279.26</td>\n",
              "    </tr>\n",
              "    <tr>\n",
              "      <th>...</th>\n",
              "      <td>...</td>\n",
              "      <td>...</td>\n",
              "      <td>...</td>\n",
              "      <td>...</td>\n",
              "      <td>...</td>\n",
              "      <td>...</td>\n",
              "      <td>...</td>\n",
              "      <td>...</td>\n",
              "    </tr>\n",
              "    <tr>\n",
              "      <th>26635</th>\n",
              "      <td>2024</td>\n",
              "      <td>12</td>\n",
              "      <td>China</td>\n",
              "      <td>Country</td>\n",
              "      <td>Import</td>\n",
              "      <td>Wine</td>\n",
              "      <td>3574</td>\n",
              "      <td>12650.27</td>\n",
              "    </tr>\n",
              "    <tr>\n",
              "      <th>26636</th>\n",
              "      <td>2024</td>\n",
              "      <td>12</td>\n",
              "      <td>China</td>\n",
              "      <td>Country</td>\n",
              "      <td>Import</td>\n",
              "      <td>Sparkling</td>\n",
              "      <td>825</td>\n",
              "      <td>3844.02</td>\n",
              "    </tr>\n",
              "    <tr>\n",
              "      <th>26637</th>\n",
              "      <td>2024</td>\n",
              "      <td>12</td>\n",
              "      <td>China</td>\n",
              "      <td>Country</td>\n",
              "      <td>Export</td>\n",
              "      <td>Table</td>\n",
              "      <td>2115</td>\n",
              "      <td>6153.84</td>\n",
              "    </tr>\n",
              "    <tr>\n",
              "      <th>26638</th>\n",
              "      <td>2024</td>\n",
              "      <td>12</td>\n",
              "      <td>China</td>\n",
              "      <td>Country</td>\n",
              "      <td>Export</td>\n",
              "      <td>Wine</td>\n",
              "      <td>2107</td>\n",
              "      <td>9355.02</td>\n",
              "    </tr>\n",
              "    <tr>\n",
              "      <th>26639</th>\n",
              "      <td>2024</td>\n",
              "      <td>12</td>\n",
              "      <td>China</td>\n",
              "      <td>Country</td>\n",
              "      <td>Export</td>\n",
              "      <td>Sparkling</td>\n",
              "      <td>6813</td>\n",
              "      <td>23101.92</td>\n",
              "    </tr>\n",
              "  </tbody>\n",
              "</table>\n",
              "<p>26640 rows × 8 columns</p>\n",
              "</div>\n",
              "    <div class=\"colab-df-buttons\">\n",
              "\n",
              "  <div class=\"colab-df-container\">\n",
              "    <button class=\"colab-df-convert\" onclick=\"convertToInteractive('df-c297f227-64ce-46c9-a7c2-a68c6b5b2cfb')\"\n",
              "            title=\"Convert this dataframe to an interactive table.\"\n",
              "            style=\"display:none;\">\n",
              "\n",
              "  <svg xmlns=\"http://www.w3.org/2000/svg\" height=\"24px\" viewBox=\"0 -960 960 960\">\n",
              "    <path d=\"M120-120v-720h720v720H120Zm60-500h600v-160H180v160Zm220 220h160v-160H400v160Zm0 220h160v-160H400v160ZM180-400h160v-160H180v160Zm440 0h160v-160H620v160ZM180-180h160v-160H180v160Zm440 0h160v-160H620v160Z\"/>\n",
              "  </svg>\n",
              "    </button>\n",
              "\n",
              "  <style>\n",
              "    .colab-df-container {\n",
              "      display:flex;\n",
              "      gap: 12px;\n",
              "    }\n",
              "\n",
              "    .colab-df-convert {\n",
              "      background-color: #E8F0FE;\n",
              "      border: none;\n",
              "      border-radius: 50%;\n",
              "      cursor: pointer;\n",
              "      display: none;\n",
              "      fill: #1967D2;\n",
              "      height: 32px;\n",
              "      padding: 0 0 0 0;\n",
              "      width: 32px;\n",
              "    }\n",
              "\n",
              "    .colab-df-convert:hover {\n",
              "      background-color: #E2EBFA;\n",
              "      box-shadow: 0px 1px 2px rgba(60, 64, 67, 0.3), 0px 1px 3px 1px rgba(60, 64, 67, 0.15);\n",
              "      fill: #174EA6;\n",
              "    }\n",
              "\n",
              "    .colab-df-buttons div {\n",
              "      margin-bottom: 4px;\n",
              "    }\n",
              "\n",
              "    [theme=dark] .colab-df-convert {\n",
              "      background-color: #3B4455;\n",
              "      fill: #D2E3FC;\n",
              "    }\n",
              "\n",
              "    [theme=dark] .colab-df-convert:hover {\n",
              "      background-color: #434B5C;\n",
              "      box-shadow: 0px 1px 3px 1px rgba(0, 0, 0, 0.15);\n",
              "      filter: drop-shadow(0px 1px 2px rgba(0, 0, 0, 0.3));\n",
              "      fill: #FFFFFF;\n",
              "    }\n",
              "  </style>\n",
              "\n",
              "    <script>\n",
              "      const buttonEl =\n",
              "        document.querySelector('#df-c297f227-64ce-46c9-a7c2-a68c6b5b2cfb button.colab-df-convert');\n",
              "      buttonEl.style.display =\n",
              "        google.colab.kernel.accessAllowed ? 'block' : 'none';\n",
              "\n",
              "      async function convertToInteractive(key) {\n",
              "        const element = document.querySelector('#df-c297f227-64ce-46c9-a7c2-a68c6b5b2cfb');\n",
              "        const dataTable =\n",
              "          await google.colab.kernel.invokeFunction('convertToInteractive',\n",
              "                                                    [key], {});\n",
              "        if (!dataTable) return;\n",
              "\n",
              "        const docLinkHtml = 'Like what you see? Visit the ' +\n",
              "          '<a target=\"_blank\" href=https://colab.research.google.com/notebooks/data_table.ipynb>data table notebook</a>'\n",
              "          + ' to learn more about interactive tables.';\n",
              "        element.innerHTML = '';\n",
              "        dataTable['output_type'] = 'display_data';\n",
              "        await google.colab.output.renderOutput(dataTable, element);\n",
              "        const docLink = document.createElement('div');\n",
              "        docLink.innerHTML = docLinkHtml;\n",
              "        element.appendChild(docLink);\n",
              "      }\n",
              "    </script>\n",
              "  </div>\n",
              "\n",
              "\n",
              "    <div id=\"df-97ccad36-2723-4a09-866e-0b3ec951667f\">\n",
              "      <button class=\"colab-df-quickchart\" onclick=\"quickchart('df-97ccad36-2723-4a09-866e-0b3ec951667f')\"\n",
              "                title=\"Suggest charts\"\n",
              "                style=\"display:none;\">\n",
              "\n",
              "<svg xmlns=\"http://www.w3.org/2000/svg\" height=\"24px\"viewBox=\"0 0 24 24\"\n",
              "     width=\"24px\">\n",
              "    <g>\n",
              "        <path d=\"M19 3H5c-1.1 0-2 .9-2 2v14c0 1.1.9 2 2 2h14c1.1 0 2-.9 2-2V5c0-1.1-.9-2-2-2zM9 17H7v-7h2v7zm4 0h-2V7h2v10zm4 0h-2v-4h2v4z\"/>\n",
              "    </g>\n",
              "</svg>\n",
              "      </button>\n",
              "\n",
              "<style>\n",
              "  .colab-df-quickchart {\n",
              "      --bg-color: #E8F0FE;\n",
              "      --fill-color: #1967D2;\n",
              "      --hover-bg-color: #E2EBFA;\n",
              "      --hover-fill-color: #174EA6;\n",
              "      --disabled-fill-color: #AAA;\n",
              "      --disabled-bg-color: #DDD;\n",
              "  }\n",
              "\n",
              "  [theme=dark] .colab-df-quickchart {\n",
              "      --bg-color: #3B4455;\n",
              "      --fill-color: #D2E3FC;\n",
              "      --hover-bg-color: #434B5C;\n",
              "      --hover-fill-color: #FFFFFF;\n",
              "      --disabled-bg-color: #3B4455;\n",
              "      --disabled-fill-color: #666;\n",
              "  }\n",
              "\n",
              "  .colab-df-quickchart {\n",
              "    background-color: var(--bg-color);\n",
              "    border: none;\n",
              "    border-radius: 50%;\n",
              "    cursor: pointer;\n",
              "    display: none;\n",
              "    fill: var(--fill-color);\n",
              "    height: 32px;\n",
              "    padding: 0;\n",
              "    width: 32px;\n",
              "  }\n",
              "\n",
              "  .colab-df-quickchart:hover {\n",
              "    background-color: var(--hover-bg-color);\n",
              "    box-shadow: 0 1px 2px rgba(60, 64, 67, 0.3), 0 1px 3px 1px rgba(60, 64, 67, 0.15);\n",
              "    fill: var(--button-hover-fill-color);\n",
              "  }\n",
              "\n",
              "  .colab-df-quickchart-complete:disabled,\n",
              "  .colab-df-quickchart-complete:disabled:hover {\n",
              "    background-color: var(--disabled-bg-color);\n",
              "    fill: var(--disabled-fill-color);\n",
              "    box-shadow: none;\n",
              "  }\n",
              "\n",
              "  .colab-df-spinner {\n",
              "    border: 2px solid var(--fill-color);\n",
              "    border-color: transparent;\n",
              "    border-bottom-color: var(--fill-color);\n",
              "    animation:\n",
              "      spin 1s steps(1) infinite;\n",
              "  }\n",
              "\n",
              "  @keyframes spin {\n",
              "    0% {\n",
              "      border-color: transparent;\n",
              "      border-bottom-color: var(--fill-color);\n",
              "      border-left-color: var(--fill-color);\n",
              "    }\n",
              "    20% {\n",
              "      border-color: transparent;\n",
              "      border-left-color: var(--fill-color);\n",
              "      border-top-color: var(--fill-color);\n",
              "    }\n",
              "    30% {\n",
              "      border-color: transparent;\n",
              "      border-left-color: var(--fill-color);\n",
              "      border-top-color: var(--fill-color);\n",
              "      border-right-color: var(--fill-color);\n",
              "    }\n",
              "    40% {\n",
              "      border-color: transparent;\n",
              "      border-right-color: var(--fill-color);\n",
              "      border-top-color: var(--fill-color);\n",
              "    }\n",
              "    60% {\n",
              "      border-color: transparent;\n",
              "      border-right-color: var(--fill-color);\n",
              "    }\n",
              "    80% {\n",
              "      border-color: transparent;\n",
              "      border-right-color: var(--fill-color);\n",
              "      border-bottom-color: var(--fill-color);\n",
              "    }\n",
              "    90% {\n",
              "      border-color: transparent;\n",
              "      border-bottom-color: var(--fill-color);\n",
              "    }\n",
              "  }\n",
              "</style>\n",
              "\n",
              "      <script>\n",
              "        async function quickchart(key) {\n",
              "          const quickchartButtonEl =\n",
              "            document.querySelector('#' + key + ' button');\n",
              "          quickchartButtonEl.disabled = true;  // To prevent multiple clicks.\n",
              "          quickchartButtonEl.classList.add('colab-df-spinner');\n",
              "          try {\n",
              "            const charts = await google.colab.kernel.invokeFunction(\n",
              "                'suggestCharts', [key], {});\n",
              "          } catch (error) {\n",
              "            console.error('Error during call to suggestCharts:', error);\n",
              "          }\n",
              "          quickchartButtonEl.classList.remove('colab-df-spinner');\n",
              "          quickchartButtonEl.classList.add('colab-df-quickchart-complete');\n",
              "        }\n",
              "        (() => {\n",
              "          let quickchartButtonEl =\n",
              "            document.querySelector('#df-97ccad36-2723-4a09-866e-0b3ec951667f button');\n",
              "          quickchartButtonEl.style.display =\n",
              "            google.colab.kernel.accessAllowed ? 'block' : 'none';\n",
              "        })();\n",
              "      </script>\n",
              "    </div>\n",
              "\n",
              "  <div id=\"id_0110b7f5-421b-4a4d-9b14-a7b3c6dec514\">\n",
              "    <style>\n",
              "      .colab-df-generate {\n",
              "        background-color: #E8F0FE;\n",
              "        border: none;\n",
              "        border-radius: 50%;\n",
              "        cursor: pointer;\n",
              "        display: none;\n",
              "        fill: #1967D2;\n",
              "        height: 32px;\n",
              "        padding: 0 0 0 0;\n",
              "        width: 32px;\n",
              "      }\n",
              "\n",
              "      .colab-df-generate:hover {\n",
              "        background-color: #E2EBFA;\n",
              "        box-shadow: 0px 1px 2px rgba(60, 64, 67, 0.3), 0px 1px 3px 1px rgba(60, 64, 67, 0.15);\n",
              "        fill: #174EA6;\n",
              "      }\n",
              "\n",
              "      [theme=dark] .colab-df-generate {\n",
              "        background-color: #3B4455;\n",
              "        fill: #D2E3FC;\n",
              "      }\n",
              "\n",
              "      [theme=dark] .colab-df-generate:hover {\n",
              "        background-color: #434B5C;\n",
              "        box-shadow: 0px 1px 3px 1px rgba(0, 0, 0, 0.15);\n",
              "        filter: drop-shadow(0px 1px 2px rgba(0, 0, 0, 0.3));\n",
              "        fill: #FFFFFF;\n",
              "      }\n",
              "    </style>\n",
              "    <button class=\"colab-df-generate\" onclick=\"generateWithVariable('df')\"\n",
              "            title=\"Generate code using this dataframe.\"\n",
              "            style=\"display:none;\">\n",
              "\n",
              "  <svg xmlns=\"http://www.w3.org/2000/svg\" height=\"24px\"viewBox=\"0 0 24 24\"\n",
              "       width=\"24px\">\n",
              "    <path d=\"M7,19H8.4L18.45,9,17,7.55,7,17.6ZM5,21V16.75L18.45,3.32a2,2,0,0,1,2.83,0l1.4,1.43a1.91,1.91,0,0,1,.58,1.4,1.91,1.91,0,0,1-.58,1.4L9.25,21ZM18.45,9,17,7.55Zm-12,3A5.31,5.31,0,0,0,4.9,8.1,5.31,5.31,0,0,0,1,6.5,5.31,5.31,0,0,0,4.9,4.9,5.31,5.31,0,0,0,6.5,1,5.31,5.31,0,0,0,8.1,4.9,5.31,5.31,0,0,0,12,6.5,5.46,5.46,0,0,0,6.5,12Z\"/>\n",
              "  </svg>\n",
              "    </button>\n",
              "    <script>\n",
              "      (() => {\n",
              "      const buttonEl =\n",
              "        document.querySelector('#id_0110b7f5-421b-4a4d-9b14-a7b3c6dec514 button.colab-df-generate');\n",
              "      buttonEl.style.display =\n",
              "        google.colab.kernel.accessAllowed ? 'block' : 'none';\n",
              "\n",
              "      buttonEl.onclick = () => {\n",
              "        google.colab.notebook.generateWithVariable('df');\n",
              "      }\n",
              "      })();\n",
              "    </script>\n",
              "  </div>\n",
              "\n",
              "    </div>\n",
              "  </div>\n"
            ],
            "application/vnd.google.colaboratory.intrinsic+json": {
              "type": "dataframe",
              "variable_name": "df",
              "summary": "{\n  \"name\": \"df\",\n  \"rows\": 26640,\n  \"fields\": [\n    {\n      \"column\": \"year\",\n      \"properties\": {\n        \"dtype\": \"number\",\n        \"std\": 2,\n        \"min\": 2015,\n        \"max\": 2024,\n        \"num_unique_values\": 10,\n        \"samples\": [\n          2023,\n          2016,\n          2020\n        ],\n        \"semantic_type\": \"\",\n        \"description\": \"\"\n      }\n    },\n    {\n      \"column\": \"month\",\n      \"properties\": {\n        \"dtype\": \"number\",\n        \"std\": 3,\n        \"min\": 1,\n        \"max\": 12,\n        \"num_unique_values\": 12,\n        \"samples\": [\n          11,\n          10,\n          1\n        ],\n        \"semantic_type\": \"\",\n        \"description\": \"\"\n      }\n    },\n    {\n      \"column\": \"location\",\n      \"properties\": {\n        \"dtype\": \"category\",\n        \"num_unique_values\": 37,\n        \"samples\": [\n          \"PI\",\n          \"PA\",\n          \"BA\"\n        ],\n        \"semantic_type\": \"\",\n        \"description\": \"\"\n      }\n    },\n    {\n      \"column\": \"location_type\",\n      \"properties\": {\n        \"dtype\": \"category\",\n        \"num_unique_values\": 2,\n        \"samples\": [\n          \"Country\",\n          \"Brazil_State\"\n        ],\n        \"semantic_type\": \"\",\n        \"description\": \"\"\n      }\n    },\n    {\n      \"column\": \"category\",\n      \"properties\": {\n        \"dtype\": \"category\",\n        \"num_unique_values\": 4,\n        \"samples\": [\n          \"Sales\",\n          \"Export\"\n        ],\n        \"semantic_type\": \"\",\n        \"description\": \"\"\n      }\n    },\n    {\n      \"column\": \"grape_type\",\n      \"properties\": {\n        \"dtype\": \"category\",\n        \"num_unique_values\": 3,\n        \"samples\": [\n          \"Table\",\n          \"Wine\"\n        ],\n        \"semantic_type\": \"\",\n        \"description\": \"\"\n      }\n    },\n    {\n      \"column\": \"volume_hl\",\n      \"properties\": {\n        \"dtype\": \"number\",\n        \"std\": 1666,\n        \"min\": 50,\n        \"max\": 6996,\n        \"num_unique_values\": 6207,\n        \"samples\": [\n          1955,\n          1399\n        ],\n        \"semantic_type\": \"\",\n        \"description\": \"\"\n      }\n    },\n    {\n      \"column\": \"value_usd\",\n      \"properties\": {\n        \"dtype\": \"number\",\n        \"std\": 6071.438030149651,\n        \"min\": 87.07,\n        \"max\": 34273.99,\n        \"num_unique_values\": 26468,\n        \"samples\": [\n          983.1,\n          15253.66\n        ],\n        \"semantic_type\": \"\",\n        \"description\": \"\"\n      }\n    }\n  ]\n}"
            }
          },
          "metadata": {},
          "execution_count": 3
        }
      ]
    },
    {
      "cell_type": "markdown",
      "source": [
        "##Gráficos de Colunas"
      ],
      "metadata": {
        "id": "omKuRTh1QNqE"
      }
    },
    {
      "cell_type": "markdown",
      "source": [
        "Os gráficos de colunas representam dados como colunas verticais em um plano cartesiano, onde as alturas das\n",
        "colunas denotam valores quantificáveis. Cada coluna corresponde a uma categoria, permitindo fácil visualização e comparação."
      ],
      "metadata": {
        "id": "49Oq0NtyQPaK"
      }
    },
    {
      "cell_type": "code",
      "source": [
        "plt.figure(figsize=(6,4))\n",
        "sns.barplot(\n",
        "    data=df,\n",
        "    x=\"category\",\n",
        "    y=\"value_usd\",\n",
        "    estimator=\"mean\"\n",
        ")\n",
        "\n",
        "plt.title(\"Preço médio por categoria\")\n",
        "plt.xlabel(\"Categoria\")\n",
        "plt.ylabel(\"Preço médio (USD)\")\n",
        "plt. show()"
      ],
      "metadata": {
        "id": "kIwZYgh1QVLq"
      },
      "execution_count": null,
      "outputs": []
    },
    {
      "cell_type": "markdown",
      "source": [
        "##Gráficos de Barras"
      ],
      "metadata": {
        "id": "_X5uI8SGQey7"
      }
    },
    {
      "cell_type": "markdown",
      "source": [
        "Os gráficos de barras são similares aos de colunas, mas utilizam barras horizontais. Este formato facilita a leitura quando os rótulos das categorias são longos."
      ],
      "metadata": {
        "id": "eCFniO85QlTL"
      }
    },
    {
      "cell_type": "code",
      "source": [
        "plt.figure(figsize=(6,4))\n",
        "sns. countplot(\n",
        "    data=df,\n",
        "    y=\"grape_type\",\n",
        "    order=df[\"grape_type\"].value_counts().index,\n",
        "    palette=\"Greens_d\"\n",
        ")\n",
        "\n",
        "plt.title(\"Contagem por tipo de uva\")\n",
        "plt.xlabel(\"Contagem\")\n",
        "plt.ylabel(\"Tipo de uva\")\n",
        "plt.show()"
      ],
      "metadata": {
        "id": "L6OiARCBQprD"
      },
      "execution_count": null,
      "outputs": []
    },
    {
      "cell_type": "markdown",
      "source": [
        "##Gráficos de Linhas"
      ],
      "metadata": {
        "id": "fJLv4vCuQwsa"
      }
    },
    {
      "cell_type": "markdown",
      "source": [
        "Os gráficos de linhas utilizam pontos conectados por linhas para visualizar a variação de dados ao longo do tempo. Cada ponto representa um valor em um determinado momento."
      ],
      "metadata": {
        "id": "5GzFQeNsQ0Gd"
      }
    },
    {
      "cell_type": "code",
      "source": [
        "df_year = df.groupby(\"year\")[\"value_usd\"].mean().reset_index()\n",
        "\n",
        "plt.figure(figsize=(6,4))\n",
        "sns.lineplot(\n",
        "    data=df_year,\n",
        "    x=\"year\",\n",
        "    y=\"value_usd\",\n",
        "    marker=\"o\",\n",
        "    color=\"crimson\"\n",
        ")\n",
        "\n",
        "plt.title(\"Preco médio anual\")\n",
        "plt.xlabel(\"Ano\")\n",
        "plt.ylabel(\"Preço médio (USD)\")\n",
        "plt.show()"
      ],
      "metadata": {
        "id": "enJIn0aPQ4pr"
      },
      "execution_count": null,
      "outputs": []
    },
    {
      "cell_type": "markdown",
      "source": [
        "##HISTOGRAMAS"
      ],
      "metadata": {
        "id": "4Onw0OSARCJL"
      }
    },
    {
      "cell_type": "markdown",
      "source": [
        "O histograma é um modelo clássico que separa as colunas por cores e possibilita uma visualização em que as cores ajudam a contar a história. É possível observar arelação entre categorias e classes de\n",
        "dados e suas ocorrências. Histogramas também são chamados de distribuições de frequências."
      ],
      "metadata": {
        "id": "od3fKRFfREeb"
      }
    },
    {
      "cell_type": "code",
      "source": [
        "plt.figure(figsize=(6,4))\n",
        "sns.histplot(\n",
        "    df[\"value_usd\"],\n",
        "    bins=30,\n",
        "    kde=False,\n",
        "    color=\"steelblue\"\n",
        ")\n",
        "\n",
        "plt.title(\"Histograma de preços\")\n",
        "plt.xlabel(\"Preço (USD)\")\n",
        "plt.ylabel(\"Frequência\")\n",
        "plt. show"
      ],
      "metadata": {
        "id": "DYAtqOX3RIUz"
      },
      "execution_count": null,
      "outputs": []
    },
    {
      "cell_type": "markdown",
      "source": [
        "##DISPERSÃO"
      ],
      "metadata": {
        "id": "LaYCLE6oRO2j"
      }
    },
    {
      "cell_type": "markdown",
      "source": [
        "Ferramenta visual que representa a relação entre duas variáveis numéricas. Ele mostra como os valores de uma variável afetam a outra, permitindo identificar padrões e tendências nos dados. Cada ponto no gráfico representa um par de valores, com uma variável plotada no eixo horizontal (X) e a outra no eixo vertical (Y)"
      ],
      "metadata": {
        "id": "xMhQSBqgRRgr"
      }
    },
    {
      "cell_type": "code",
      "source": [
        "plt.figure(figsize=(6,4))\n",
        "sns . scatterplot(\n",
        "    data=df[df['category'] == 'sales'],\n",
        "    x=\"volume_h1\",\n",
        "    y=\"value_usd\",\n",
        "    hue=\"category\",\n",
        "    alpha=0.7,\n",
        "    palette=\"tab10\"\n",
        ")\n",
        "\n",
        "plt.title(\"Preco vs. Volume (hl)\")\n",
        "plt.xlabel(\"Volume (hl)\")\n",
        "plt.ylabel(\"Preco (USD)\")\n",
        "plt.legend(title=\"Categoria\")\n",
        "plt.show()"
      ],
      "metadata": {
        "id": "4zMDvOANRU7T"
      },
      "execution_count": null,
      "outputs": []
    },
    {
      "cell_type": "markdown",
      "source": [
        "##Box Plot"
      ],
      "metadata": {
        "id": "ItkE237BP0a1"
      }
    },
    {
      "cell_type": "markdown",
      "source": [
        "Box plot é uma ferramenta gráfica utilizada para\n",
        "representar e ilustrar um conjunto de dados\n",
        "distribuídos em cinco diferentes medidas, que\n",
        "possibilitam diversos tipos de observações em\n",
        "uma única análise."
      ],
      "metadata": {
        "id": "r_ice3jZP7Cj"
      }
    },
    {
      "cell_type": "code",
      "execution_count": 4,
      "metadata": {
        "colab": {
          "base_uri": "https://localhost:8080/",
          "height": 517
        },
        "id": "4BerSgPKIAoH",
        "outputId": "92103432-5191-4abb-8358-51efeacb17ea"
      },
      "outputs": [
        {
          "output_type": "stream",
          "name": "stderr",
          "text": [
            "/tmp/ipython-input-2050620354.py:2: FutureWarning: \n",
            "\n",
            "Passing `palette` without assigning `hue` is deprecated and will be removed in v0.14.0. Assign the `x` variable to `hue` and set `legend=False` for the same effect.\n",
            "\n",
            "  sns.boxplot(\n"
          ]
        },
        {
          "output_type": "display_data",
          "data": {
            "text/plain": [
              "<Figure size 600x400 with 1 Axes>"
            ],
            "image/png": "[encoded data removed]"
          },
          "metadata": {}
        }
      ],
      "source": [
        "plt.figure(figsize=(6,4))\n",
        "sns.boxplot(\n",
        "    data=df,\n",
        "    x=\"category\",\n",
        "    y=\"value_usd\",\n",
        "    palette=\"Set2\"\n",
        ")\n",
        "plt.yscale(\"log\")\n",
        "plt.title(\"Boxplot de precos por categoria (escala log)\")\n",
        "plt.xlabel(\"Categoria\")\n",
        "plt.ylabel(\"Preco (USD)\")\n",
        "plt.show()"
      ]
    },
    {
      "cell_type": "markdown",
      "source": [
        "##"
      ],
      "metadata": {
        "id": "6ANgXSHxRiVn"
      }
    },
    {
      "cell_type": "markdown",
      "source": [
        "##HEAT MAP"
      ],
      "metadata": {
        "id": "arsU7PCMRoDW"
      }
    },
    {
      "cell_type": "markdown",
      "source": [
        "Um heatmap, ou mapa de calor, é uma representação visual de dados onde os valores são codificados por cores, permitindo identificar áreas de alta e baixa\n",
        "intensidade de forma intuitiva. Em termos simples, é uma ferramenta que usa cores para mostrar onde as pessoas mais interagem ou se concentram em uma página web, loja física ou qualquer outro espaço"
      ],
      "metadata": {
        "id": "MrZTHKaKRp7e"
      }
    },
    {
      "cell_type": "code",
      "source": [
        "corr = df[[\"volume_h1\",\"value_usd\"]].corr()\n",
        "\n",
        "plt.figure(figsize=(6,5))\n",
        "sns.heatmap(\n",
        "    corr,\n",
        "    annot=True,\n",
        "    cmap=\"coolwarm\",\n",
        "    vmin =- 1,\n",
        "    vmax=1,\n",
        "    linewidths=0.5\n",
        ")\n",
        "\n",
        "plt.title(\"Matriz de Correlação\")\n",
        "plt.tight_layout()\n",
        "plt.show()"
      ],
      "metadata": {
        "id": "Zc6xTYzjRvMj"
      },
      "execution_count": null,
      "outputs": []
    }
  ]
}