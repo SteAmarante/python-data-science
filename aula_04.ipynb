{
  "nbformat": 4,
  "nbformat_minor": 0,
  "metadata": {
    "colab": {
      "provenance": [],
      "toc_visible": true,
      "authorship_tag": "ABX9TyNaszdRo9DgIM91kV75whgB",
      "include_colab_link": true
    },
    "kernelspec": {
      "name": "python3",
      "display_name": "Python 3"
    },
    "language_info": {
      "name": "python"
    }
  },
  "cells": [
    {
      "cell_type": "markdown",
      "metadata": {
        "id": "view-in-github",
        "colab_type": "text"
      },
      "source": [
        "<a href=\"https://colab.research.google.com/github/SteAmarante/python-data-science/blob/main/aula_04.ipynb\" target=\"_parent\"><img src=\"https://colab.research.google.com/assets/colab-badge.svg\" alt=\"Open In Colab\"/></a>"
      ]
    },
    {
      "cell_type": "markdown",
      "source": [
        "#⭐ Introdução ao NumPy Arrays e Operações Básicas ⭐"
      ],
      "metadata": {
        "id": "xmR43kCAusgU"
      }
    },
    {
      "cell_type": "markdown",
      "source": [
        "##Vetores, matrizes e tensores"
      ],
      "metadata": {
        "id": "pTimTh2LN0OB"
      }
    },
    {
      "cell_type": "code",
      "execution_count": null,
      "metadata": {
        "id": "HynIl5SFuUeE"
      },
      "outputs": [],
      "source": [
        "#importando biblioteca\n",
        "import numpy as np"
      ]
    },
    {
      "cell_type": "markdown",
      "source": [
        "###Vetores\n",
        "\n",
        "Um vetor é uma matriz unidimensional de números. Em termos\n",
        "simples, um vetor é uma seta que representa uma quantidade que\n",
        "tem magnitude e direção."
      ],
      "metadata": {
        "id": "_5erlhnEu95e"
      }
    },
    {
      "cell_type": "code",
      "source": [
        "#cria um vetor com numpy\n",
        "meu_vetor = np.array([10, 11, 13, 11, 14, 15])\n",
        "print(meu_vetor)\n",
        "print(\"\\n\")\n",
        "print(meu_vetor.shape)"
      ],
      "metadata": {
        "colab": {
          "base_uri": "https://localhost:8080/"
        },
        "id": "B7ByAhbBvDo0",
        "outputId": "f9878467-ccc8-4c5a-8a7f-fdd8c34f60b6"
      },
      "execution_count": null,
      "outputs": [
        {
          "output_type": "stream",
          "name": "stdout",
          "text": [
            "[10 11 13 11 14 15]\n",
            "\n",
            "\n",
            "(6,)\n"
          ]
        }
      ]
    },
    {
      "cell_type": "markdown",
      "source": [
        "###Matrizes\n",
        "\n",
        "Uma matriz é uma estrutura bidimensional de números. É como uma tabela ou\n",
        "grade com linhas e colunas.\n",
        "\n",
        "Cada elemento em uma matriz é identificado por dois índices em vez de apenas\n",
        "um. Se uma matriz tem uma altura de m e uma largura de n, então dizemos que\n",
        "ela é uma matriz (m x n), onde m representa suas linhas e n representa suas\n",
        "colunas. No exemplo abaixo, usamos duas listas de 3 elementos cada para criar\n",
        "uma matriz 2 x 3 com NumPy."
      ],
      "metadata": {
        "id": "ppXcfyn-vRQF"
      }
    },
    {
      "cell_type": "code",
      "source": [
        "# cria uma matriz 2 x 3\n",
        "minha_matrix = np.array([[1, 2, 3], [4, 5, 6]])\n",
        "print(minha_matrix.shape) # resultado: (2, 3)\n",
        "print(\"\\n\")\n",
        "print(minha_matrix)"
      ],
      "metadata": {
        "colab": {
          "base_uri": "https://localhost:8080/"
        },
        "id": "You3gR6svbll",
        "outputId": "dced48dd-f5b9-446a-b87e-a2abcef67509"
      },
      "execution_count": null,
      "outputs": [
        {
          "output_type": "stream",
          "name": "stdout",
          "text": [
            "(2, 3)\n",
            "\n",
            "\n",
            "[[1 2 3]\n",
            " [4 5 6]]\n"
          ]
        }
      ]
    },
    {
      "cell_type": "markdown",
      "source": [
        "###Tensores\n",
        "\n",
        "Os tensores podem ser simplesmente entendidos como uma matriz n-dimensional com n maior que 2. A notação matemática dos tensores é semelhante à das matrizes. Por exemplo, para armazenar dados de uma imagem colorida, podemos usar um tensor com 3 dimensões: a largura da imagem, sua altura e o número de canais de cores."
      ],
      "metadata": {
        "id": "MKSQoTwjwGfe"
      }
    },
    {
      "cell_type": "code",
      "source": [
        "import numpy as np\n",
        "\n",
        "#cria um tensor 3, 2, 3\n",
        "meu_tensor = np.array([\n",
        "    [\n",
        "      [0,1,0], [1,0,1]\n",
        "    ],\n",
        "    [\n",
        "      [0,1,0], [1,0,1]\n",
        "    ],\n",
        "    [\n",
        "      [0,1,0], [1,0,1]\n",
        "    ]\n",
        "])\n",
        "print(meu_tensor.shape)\n",
        "print(\"\\n\")\n",
        "print(meu_tensor)"
      ],
      "metadata": {
        "colab": {
          "base_uri": "https://localhost:8080/"
        },
        "id": "JIvL-S2pwNlj",
        "outputId": "b5972a08-9a6b-4458-9b36-256d0b4a6769"
      },
      "execution_count": null,
      "outputs": [
        {
          "output_type": "stream",
          "name": "stdout",
          "text": [
            "(3, 2, 3)\n",
            "\n",
            "\n",
            "[[[0 1 0]\n",
            "  [1 0 1]]\n",
            "\n",
            " [[0 1 0]\n",
            "  [1 0 1]]\n",
            "\n",
            " [[0 1 0]\n",
            "  [1 0 1]]]\n"
          ]
        }
      ]
    },
    {
      "cell_type": "markdown",
      "source": [
        "##Manipulando os meus Arrays"
      ],
      "metadata": {
        "id": "8MqkFXXs-TXm"
      }
    },
    {
      "cell_type": "markdown",
      "source": [
        "###Reshaping\n",
        "Isso converterá sua matriz unidimensional em uma matriz bidimensional com 2 linhas e 3 colunas."
      ],
      "metadata": {
        "id": "q7Jje860x99l"
      }
    },
    {
      "cell_type": "code",
      "source": [
        "arr = np.array([1, 2, 3, 4, 5, 6])\n",
        "print(arr)"
      ],
      "metadata": {
        "colab": {
          "base_uri": "https://localhost:8080/"
        },
        "id": "y4PWLaMI2fQu",
        "outputId": "b1be23f3-b787-4a5d-eebc-ef07aa5b0f7f"
      },
      "execution_count": null,
      "outputs": [
        {
          "output_type": "stream",
          "name": "stdout",
          "text": [
            "[1 2 3 4 5 6]\n"
          ]
        }
      ]
    },
    {
      "cell_type": "code",
      "source": [
        "new_arr = arr.reshape(2,3)\n",
        "print(new_arr)"
      ],
      "metadata": {
        "colab": {
          "base_uri": "https://localhost:8080/"
        },
        "id": "rvMomtBt3Ey1",
        "outputId": "0ac4bb2b-feca-4d4b-ae4c-38a3dd8819e5"
      },
      "execution_count": null,
      "outputs": [
        {
          "output_type": "stream",
          "name": "stdout",
          "text": [
            "[[1 2 3]\n",
            " [4 5 6]]\n"
          ]
        }
      ]
    },
    {
      "cell_type": "markdown",
      "source": [
        "###Cópia\n",
        "A nova matriz apenas faz referência à matriz antiga na memória do sistema. Eles contêm os mesmos elementos e não são independentes um do outro.\n",
        "\n",
        "Você pode copiar os elementos de um array NumPy para outra usando o método copy(). Você deve observar que o uso do operador de atribuição ‘=’ cria uma cópia superficial.\n",
        "\n",
        "Ao usar a cópia copy(), você cria um novo array NumPy que contém os mesmos dados que a antiga e é independente dela."
      ],
      "metadata": {
        "id": "Ynr3DUBH38a1"
      }
    },
    {
      "cell_type": "code",
      "source": [
        "#Creating a shallow copy of a NumPy array\n",
        "a = np.array([9, 6, 12, 16, 20])\n",
        "b = a\n",
        "b[0] = 19\n",
        "\n",
        "print(a) #Output:[19, 6, 12, 16, 20]\n",
        "print(b) #Output:[19, 6, 12, 16, 20]"
      ],
      "metadata": {
        "colab": {
          "base_uri": "https://localhost:8080/"
        },
        "id": "tegeaplQ4Dbt",
        "outputId": "13c907b0-3c6a-4487-cfd7-d4768587862a"
      },
      "execution_count": null,
      "outputs": [
        {
          "output_type": "stream",
          "name": "stdout",
          "text": [
            "[19  6 12 16 20]\n",
            "[19  6 12 16 20]\n"
          ]
        }
      ]
    },
    {
      "cell_type": "markdown",
      "source": [
        "###Concatenação\n",
        "\n",
        "Ocasionalmente, pode ser necessário mesclar dois array em um único. No NumPy, você pode usar a função concatenate() para unir matrizes ao longo de um eixo existente:\n",
        "\n",
        "Isso combina arr1 e arr2 em um único array. Lembre-se de que os array que estão sendo concatenadas devem ter o mesmo formato, exceto ao longo do eixo especificado."
      ],
      "metadata": {
        "id": "QMb4ZCtf4KeV"
      }
    },
    {
      "cell_type": "code",
      "source": [
        "arr1 = np.array([1, 2, 3])\n",
        "arr2 = np.array([4, 5, 6])\n",
        "result = np.concatenate((arr1, arr2))\n",
        "result = result.reshape(2, 3)\n",
        "# result = result.conjugate(arr1)\n",
        "print(result)"
      ],
      "metadata": {
        "colab": {
          "base_uri": "https://localhost:8080/"
        },
        "id": "zaC2_gkU4Y31",
        "outputId": "2caac1f7-c209-496e-b656-e52d0e3c27be"
      },
      "execution_count": 55,
      "outputs": [
        {
          "output_type": "stream",
          "name": "stdout",
          "text": [
            "[[1 2 3]\n",
            " [4 5 6]]\n"
          ]
        }
      ]
    },
    {
      "cell_type": "markdown",
      "source": [
        "###Splitting\n",
        "Splitting é o oposto da concatenação. Você pode dividir um array em sub-arrays menores usando a função split()\n",
        "\n",
        "Isso divide a matriz em 3 sub- arrays de tamanho igual. Certifique-se de que o número de divisões que você especificar possa dividir uniformemente o tamanho do array ao longo do eixo fornecido."
      ],
      "metadata": {
        "id": "ZYyyu_fZ5_fW"
      }
    },
    {
      "cell_type": "code",
      "source": [
        "a = np.array([3, 5, 6, 9, 1, 0])\n",
        "print(a)"
      ],
      "metadata": {
        "colab": {
          "base_uri": "https://localhost:8080/"
        },
        "id": "AT87I5m26EV2",
        "outputId": "2ea6a099-587c-4903-f40b-7b318581ca21"
      },
      "execution_count": null,
      "outputs": [
        {
          "output_type": "stream",
          "name": "stdout",
          "text": [
            "[3 5 6 9 1 0]\n"
          ]
        }
      ]
    },
    {
      "cell_type": "code",
      "source": [
        "a, b, c = np.split(a, 3)\n",
        "print(a, b, c)"
      ],
      "metadata": {
        "colab": {
          "base_uri": "https://localhost:8080/"
        },
        "id": "w33TVc2N6RrN",
        "outputId": "b9b644d2-82e1-4739-c382-46f569962ee3"
      },
      "execution_count": null,
      "outputs": [
        {
          "output_type": "stream",
          "name": "stdout",
          "text": [
            "[3 5] [6 9] [1 0]\n"
          ]
        }
      ]
    },
    {
      "cell_type": "markdown",
      "source": [
        "###Adição/Remoção de elementos\n",
        "\n",
        "É possível adicionar ou remover elementos em um array NumPy usando as funções append() e delete(). Você pode usar a primeira para acrescentar valores ao final do array, enquanto a segunda exclui o elemento em um índice especificado."
      ],
      "metadata": {
        "id": "OcbVGX2p7vqv"
      }
    },
    {
      "cell_type": "code",
      "source": [
        "arr = np.array([1, 2, 3])\n",
        "\n",
        "arr = np.append (arr, [4, 5, 6])\n",
        "print(arr)\n",
        "print(\"\\n\")\n",
        "arr = np.delete(arr, 0)\n",
        "print(arr)"
      ],
      "metadata": {
        "colab": {
          "base_uri": "https://localhost:8080/"
        },
        "id": "enFAzmXd70ye",
        "outputId": "a04c8399-4ec7-454e-a056-09509d659167"
      },
      "execution_count": 46,
      "outputs": [
        {
          "output_type": "stream",
          "name": "stdout",
          "text": [
            "[1 2 3 4 5 6]\n",
            "\n",
            "\n",
            "[2 3 4 5 6]\n"
          ]
        }
      ]
    },
    {
      "cell_type": "markdown",
      "source": [
        "###Slicing\n",
        "\n",
        "Você também pode fatiar matrizes NumPy para extrair ou visualizar uma seção\n",
        "dos dados da mesma forma que faria com listas ou conjuntos do Python. Vamos dar uma olhada em um exemplo abaixo:"
      ],
      "metadata": {
        "id": "DDpLTn_-9J4f"
      }
    },
    {
      "cell_type": "code",
      "source": [
        "arr1 = np.array([1, 2, 3, 4, 5, 6, 7])\n",
        "arr2 = np.array([(1, 2, 3,6,0),(4,5,6,11,13)])\n",
        "\n",
        "# To return the first 3 elements of arr1\n",
        "print(arr1[0:3]) #Output: [1, 2, 3]\n",
        "\n",
        "# To return the second row in arr2\n",
        "b = arr2[1, : ].copy() #Output: [4, 5, 6, 11, 13]"
      ],
      "metadata": {
        "colab": {
          "base_uri": "https://localhost:8080/"
        },
        "id": "iFW6Kl5e9NHH",
        "outputId": "be413e0a-31aa-4420-c8f4-ac8f9b77f24b"
      },
      "execution_count": 58,
      "outputs": [
        {
          "output_type": "stream",
          "name": "stdout",
          "text": [
            "[1 2 3]\n"
          ]
        }
      ]
    },
    {
      "cell_type": "markdown",
      "source": [
        "##Exercícios Individuais – Manipulação de Arrays NumPy"
      ],
      "metadata": {
        "id": "2VJwXbad-hWP"
      }
    },
    {
      "cell_type": "markdown",
      "source": [
        "### Exercício 1\n",
        "Crie um array NumPy com valores de 0 a 11, faça um reshape deste array para uma matriz 3x4. Utilizando indexação, imprima:\n",
        "\n",
        "*   Toda a segunda linha.\n",
        "*   O valor localizado na terceira linha, quarta coluna."
      ],
      "metadata": {
        "id": "akb2_PiC-mbn"
      }
    },
    {
      "cell_type": "code",
      "source": [
        "a = np.array([0, 1, 2, 3, 4, 5, 6, 7, 8, 9, 10, 11])\n",
        "new_a = a.reshape(3, 4)\n",
        "print(new_a)\n",
        "print(\"\\nToda a segunda linha: \")\n",
        "print(new_a[1])\n",
        "print(\"\\nO valor localizado na terceira linha, quarta coluna: \")\n",
        "print(new_a[2,3]) #quando usa \":\" faz fatiamento, e a \",\" traz linhas e coluna"
      ],
      "metadata": {
        "colab": {
          "base_uri": "https://localhost:8080/"
        },
        "id": "LCbYtEvvDelY",
        "outputId": "8887eeba-4d9d-467e-c2fc-4f08daccc4c0"
      },
      "execution_count": 68,
      "outputs": [
        {
          "output_type": "stream",
          "name": "stdout",
          "text": [
            "[[ 0  1  2  3]\n",
            " [ 4  5  6  7]\n",
            " [ 8  9 10 11]]\n",
            "\n",
            "Toda a segunda linha: \n",
            "[4 5 6 7]\n",
            "\n",
            "O valor localizado na terceira linha, quarta coluna: \n",
            "11\n"
          ]
        }
      ]
    },
    {
      "cell_type": "markdown",
      "source": [
        "###Exercício 2\n",
        "Crie dois arrays 1D NumPy com valores [1, 2, 3] e [4, 5, 6] e concatene-os formando um único array. Após isso,\n",
        "faça slicing para obter apenas os elementos [2, 3, 4, 5]."
      ],
      "metadata": {
        "id": "Kf_Tk6zP-oIv"
      }
    },
    {
      "cell_type": "code",
      "source": [
        "um_arr = ([1, 2, 3])\n",
        "dois_arr = ([4, 5, 6])\n",
        "novo_arr = np.concatenate((um_arr, dois_arr))\n",
        "print(novo_arr)\n",
        "print(\"\\n\")\n",
        "print(novo_arr[1:5])"
      ],
      "metadata": {
        "colab": {
          "base_uri": "https://localhost:8080/"
        },
        "id": "5hKru38P-vpm",
        "outputId": "e576be63-ea86-4a87-acf9-aad5270ad112"
      },
      "execution_count": 72,
      "outputs": [
        {
          "output_type": "stream",
          "name": "stdout",
          "text": [
            "[1 2 3 4 5 6]\n",
            "\n",
            "\n",
            "[2 3 4 5]\n"
          ]
        }
      ]
    },
    {
      "cell_type": "markdown",
      "source": [
        "###Exercício 3\n",
        "\n",
        "Crie um array original com valores [10, 20, 30, 40, 50]. Faça uma cópia deste array. Remova o elemento 30 da cópia sem alterar o original. Imprima os dois arrays para mostrar que o original permanece inalterado."
      ],
      "metadata": {
        "id": "ahE9Lt6tDjAf"
      }
    },
    {
      "cell_type": "code",
      "source": [
        "og_arr = ([10, 20, 30, 40, 50])\n",
        "print(og_arr)\n",
        "print(\"\\n\")\n",
        "nova_og = og_arr.copy()\n",
        "print(nova_og)\n",
        "print(\"\\n\")\n",
        "nova_og = np.delete(nova_og, 2)\n",
        "print(nova_og)"
      ],
      "metadata": {
        "colab": {
          "base_uri": "https://localhost:8080/"
        },
        "id": "_5aaHfTRDrK2",
        "outputId": "94f0326d-4025-4168-ed70-7f2f9e2ca593"
      },
      "execution_count": 79,
      "outputs": [
        {
          "output_type": "stream",
          "name": "stdout",
          "text": [
            "[10, 20, 30, 40, 50]\n",
            "\n",
            "\n",
            "[10, 20, 30, 40, 50]\n",
            "\n",
            "\n",
            "[10 20 40 50]\n"
          ]
        }
      ]
    },
    {
      "cell_type": "markdown",
      "source": [
        "###Exercício 4\n",
        "\n",
        "Crie um array com valores [100, 200, 300, 400, 500, 600], divida-o (split) esse array em dois arrays separados, cada um com três elementos. No segundo array resultante, adicione o valor 700 ao final. Imprima ambos arrays finais."
      ],
      "metadata": {
        "id": "WwW4V4S2Drm_"
      }
    },
    {
      "cell_type": "code",
      "source": [
        "print(\"Array original ----\\n\")\n",
        "arr = np.array([100, 200, 300, 400, 500, 600])\n",
        "print(arr)\n",
        "\n",
        "print(\"\\nArrays split ----\\n\")\n",
        "arr1, arr2 = np.split(arr, 2)\n",
        "print(arr1, '\\n')\n",
        "print(arr2)\n",
        "\n",
        "print(\"\\nArrays split com alteração no segundo ----\\n\")\n",
        "print(arr1, '\\n')\n",
        "arr2 = np.append(arr2, 700)\n",
        "print(arr2)"
      ],
      "metadata": {
        "colab": {
          "base_uri": "https://localhost:8080/"
        },
        "id": "kZqVKPPhDvdX",
        "outputId": "e08198c5-5245-4394-d140-836eb85ad6fd"
      },
      "execution_count": 80,
      "outputs": [
        {
          "output_type": "stream",
          "name": "stdout",
          "text": [
            "[100 200 300 400 500 600]\n",
            "[100 200 300] \n",
            "\n",
            "[400 500 600]\n",
            "[100 200 300] \n",
            "\n",
            "[400 500 600]\n"
          ]
        }
      ]
    },
    {
      "cell_type": "markdown",
      "source": [
        "##Funções/Operações para os Arrays"
      ],
      "metadata": {
        "id": "7ghOExo9LhAq"
      }
    },
    {
      "cell_type": "markdown",
      "source": [
        "###Operações aritiméticas\n",
        "\n",
        "O NumPy oferece várias operações matemáticas em matrizes que as tornam simples\n",
        "e eficientes para trabalhar. matemática de matrizes matemática de vetores. Algumas das operações são:\n",
        "\n",
        "- Adição: numpy.add(x1, x2)\n",
        "- Subtração: numpy.subtract(x1, x2)\n",
        "- Multiplicação: numpy.multiply(x1, x2)\n",
        "- Divisão: numpy.divide(x1, x2)\n",
        "- Módulo: numpy.mod(x1, x2)\n",
        "- Potência: numpy.power(x1, x2)\n",
        "- Raiz quadrada: numpy.sqrt(x)\n",
        "\n",
        "Observação: Ao usar essas operações, as duas matrizes devem ter o mesmo formato. Caso contrário, você encontrará erros."
      ],
      "metadata": {
        "id": "6hSCkJE3LjYB"
      }
    },
    {
      "cell_type": "code",
      "source": [
        "a = np.array([8, 4, 9, 2])\n",
        "b = np.array([2, 4, 3, 2.5])\n",
        "print(a,b)"
      ],
      "metadata": {
        "colab": {
          "base_uri": "https://localhost:8080/"
        },
        "id": "uro5mkPHLwtx",
        "outputId": "c1da82d9-42b8-48ae-ce7b-3a45013481dd"
      },
      "execution_count": 81,
      "outputs": [
        {
          "output_type": "stream",
          "name": "stdout",
          "text": [
            "[8 4 9 2] [2.  4.  3.  2.5]\n"
          ]
        }
      ]
    },
    {
      "cell_type": "code",
      "source": [
        "c = np.add(a, b) #Alternatively c = atb\n",
        "print(c)"
      ],
      "metadata": {
        "colab": {
          "base_uri": "https://localhost:8080/"
        },
        "id": "vSiBIt5OMB9S",
        "outputId": "af3b8b1d-d42d-409a-9085-959024fb0481"
      },
      "execution_count": 82,
      "outputs": [
        {
          "output_type": "stream",
          "name": "stdout",
          "text": [
            "[10.   8.  12.   4.5]\n"
          ]
        }
      ]
    },
    {
      "cell_type": "code",
      "source": [
        "c = np.multiply (a,b) #Alternatively c = a*b\n",
        "print(c)"
      ],
      "metadata": {
        "colab": {
          "base_uri": "https://localhost:8080/"
        },
        "id": "fibDSNy4MECJ",
        "outputId": "9815908f-a30f-4204-fc32-ba057dc9a75a"
      },
      "execution_count": 83,
      "outputs": [
        {
          "output_type": "stream",
          "name": "stdout",
          "text": [
            "[16. 16. 27.  5.]\n"
          ]
        }
      ]
    },
    {
      "cell_type": "code",
      "source": [
        "c =np.sqrt(a)\n",
        "print(c)"
      ],
      "metadata": {
        "colab": {
          "base_uri": "https://localhost:8080/"
        },
        "id": "hz7hgxOlMFix",
        "outputId": "6cc1fc3b-faa9-4a35-d738-045977aff94c"
      },
      "execution_count": 84,
      "outputs": [
        {
          "output_type": "stream",
          "name": "stdout",
          "text": [
            "[2.82842712 2.         3.         1.41421356]\n"
          ]
        }
      ]
    },
    {
      "cell_type": "markdown",
      "source": [
        "###Funções de agregação\n",
        "O NumPy fornece várias funções de agregação que permitem realizar\n",
        "operações em matrizes, como somar todos os seus elementos, encontrar o\n",
        "valor mínimo ou máximo e muito mais:\n",
        "\n",
        "- sum: np.sum(your_array) - Calcula a soma de todos os\n",
        "elementos da matriz.\n",
        "- min: np.min(your_array) - Encontra o elemento mínimo da\n",
        "matriz.\n",
        "- max: np.max(your_array) - Localiza o elemento máximo da\n",
        "matriz.\n",
        "- mean: np.mean(your_array) - Calcula a média dos valores na\n",
        "matriz.\n",
        "- median: np.median(your_array) - Encontre a mediana dos\n",
        "valores na matriz.\n",
        "- std: np.std(your_array) – Devolve o desvio padrão"
      ],
      "metadata": {
        "id": "IbMwnj1RMWFx"
      }
    },
    {
      "cell_type": "code",
      "source": [
        "a = np.arange(10)\n",
        "print(a)"
      ],
      "metadata": {
        "colab": {
          "base_uri": "https://localhost:8080/"
        },
        "id": "arnjo6khMimC",
        "outputId": "969a08b9-f391-496f-dbdb-6f60c6fb1d87"
      },
      "execution_count": 85,
      "outputs": [
        {
          "output_type": "stream",
          "name": "stdout",
          "text": [
            "[0 1 2 3 4 5 6 7 8 9]\n"
          ]
        }
      ]
    },
    {
      "cell_type": "code",
      "source": [
        "print(np.sum(a))"
      ],
      "metadata": {
        "colab": {
          "base_uri": "https://localhost:8080/"
        },
        "id": "Up_AsQLsMi8Z",
        "outputId": "fd3831f3-b320-46b9-f1b1-ffbef888adc3"
      },
      "execution_count": 86,
      "outputs": [
        {
          "output_type": "stream",
          "name": "stdout",
          "text": [
            "45\n"
          ]
        }
      ]
    },
    {
      "cell_type": "code",
      "source": [
        "print(np.max(a))"
      ],
      "metadata": {
        "colab": {
          "base_uri": "https://localhost:8080/"
        },
        "id": "QpP3FK8jMkwh",
        "outputId": "ba9856bf-7b4d-4450-d128-c6c517ca01fc"
      },
      "execution_count": 87,
      "outputs": [
        {
          "output_type": "stream",
          "name": "stdout",
          "text": [
            "9\n"
          ]
        }
      ]
    },
    {
      "cell_type": "code",
      "source": [
        "print(np.mean(a))"
      ],
      "metadata": {
        "colab": {
          "base_uri": "https://localhost:8080/"
        },
        "id": "6LG3VuvRMlzp",
        "outputId": "42e76270-3c27-4fbc-c4fb-8b55ed4c8be6"
      },
      "execution_count": 88,
      "outputs": [
        {
          "output_type": "stream",
          "name": "stdout",
          "text": [
            "4.5\n"
          ]
        }
      ]
    },
    {
      "cell_type": "markdown",
      "source": [
        "###Broadcasting\n",
        "\n",
        "Broadcasting é um recurso poderoso do NumPy que permite realizar operações em matrizes com diferentes formas e tamanhos. Ele funciona expandindo automaticamente as dimensões da matriz menor para corresponder à matriz maior, facilitando a realização de operações elementares."
      ],
      "metadata": {
        "id": "4W18MzG6MqLJ"
      }
    },
    {
      "cell_type": "code",
      "source": [
        "A = np.array([1, 2, 3])\n",
        "B = np.array([[1, 2, 3], [4, 5, 6], [7, 8, 9]])\n",
        "\n",
        "C = A + B\n",
        "print(C)"
      ],
      "metadata": {
        "colab": {
          "base_uri": "https://localhost:8080/"
        },
        "id": "yaYT1bgEMvMg",
        "outputId": "d8bb275b-fc6b-4b25-fd20-fcf618e8e520"
      },
      "execution_count": 91,
      "outputs": [
        {
          "output_type": "stream",
          "name": "stdout",
          "text": [
            "[[ 2  4  6]\n",
            " [ 5  7  9]\n",
            " [ 8 10 12]]\n"
          ]
        }
      ]
    },
    {
      "cell_type": "markdown",
      "source": [
        "##Exercícios Individuais – Funções/Operações para os Arrays"
      ],
      "metadata": {
        "id": "eAfpDF0hM9Mx"
      }
    },
    {
      "cell_type": "markdown",
      "source": [
        "###Exercício 1\n",
        "\n",
        "Crie dois arrays NumPy: A = [10, 20, 30, 40, 50] e B = [1, 2, 3, 4, 5]. Realize as seguintes operações entre eles:\n",
        "\n",
        "- Soma\n",
        "- Subtração\n",
        "- Multiplicação\n",
        "- Divisão\n",
        "\n",
        "Imprima claramente cada resultado."
      ],
      "metadata": {
        "id": "0J55TU30M-_j"
      }
    },
    {
      "cell_type": "code",
      "source": [
        "p_arr = ([10, 20, 30, 40, 50])\n",
        "s_arr = ([1, 2, 3, 4, 5])\n",
        "\n",
        "calculo = np.add(p_arr, s_arr)\n",
        "print(f\"A soma é: {calculo}\")\n",
        "\n",
        "calculo = np.subtract(p_arr, s_arr)\n",
        "print(f\"\\nA subtração é: {calculo}\")\n",
        "\n",
        "calculo = np.multiply(p_arr, s_arr)\n",
        "print(f\"\\nA multiplicação é: {calculo}\")\n",
        "\n",
        "calculo = np.divide(p_arr, s_arr)\n",
        "print(f\"\\nA divisão é: {calculo}\")"
      ],
      "metadata": {
        "colab": {
          "base_uri": "https://localhost:8080/"
        },
        "id": "RaJZg5G_M-fp",
        "outputId": "21353495-dc7a-4e92-a26c-b676abec12d3"
      },
      "execution_count": 94,
      "outputs": [
        {
          "output_type": "stream",
          "name": "stdout",
          "text": [
            "A soma é: [11 22 33 44 55]\n",
            "\n",
            "A subtração é: [ 9 18 27 36 45]\n",
            "\n",
            "A multiplicação é: [ 10  40  90 160 250]\n",
            "\n",
            "A divisão é: [10. 10. 10. 10. 10.]\n"
          ]
        }
      ]
    },
    {
      "cell_type": "markdown",
      "source": [
        "###Exercício 2\n",
        "\n",
        "Crie um array NumPy com os seguintes valores: [12, 15, 20, 25, 30, 35, 40]. Utilize funções NumPy para calcular:\n",
        "\n",
        "- Soma total\n",
        "- Média\n",
        "- Desvio padrão\n",
        "- Máximo e mínimo\n",
        "\n",
        "Imprima cada resultado com clareza."
      ],
      "metadata": {
        "id": "YsOKEku_NHhw"
      }
    },
    {
      "cell_type": "code",
      "source": [
        "valores_arr = ([12, 15, 20, 25, 30, 35, 40])\n",
        "\n",
        "print(\"Soma total: \")\n",
        "print(np.sum(valores_arr))\n",
        "\n",
        "print(\"\\nMédia: \")\n",
        "print(np.mean(valores_arr))\n",
        "\n",
        "print(\"\\nDesvio padrão: \")\n",
        "print(np.std(valores_arr))\n",
        "\n",
        "print(\"\\nMáximo e mínimo: \")\n",
        "print(np.max(valores_arr), np.min(valores_arr))"
      ],
      "metadata": {
        "colab": {
          "base_uri": "https://localhost:8080/"
        },
        "id": "xx8iznr9NQLY",
        "outputId": "6b82c6ed-9f0c-4813-e6ca-0a4f070a42d3"
      },
      "execution_count": 113,
      "outputs": [
        {
          "output_type": "stream",
          "name": "stdout",
          "text": [
            "Soma total: \n",
            "177\n",
            "\n",
            "Média: \n",
            "25.285714285714285\n",
            "\n",
            "Desvio padrão: \n",
            "9.587406706035724\n",
            "\n",
            "Máximo e mínimo: \n",
            "40 12\n"
          ]
        }
      ]
    },
    {
      "cell_type": "markdown",
      "source": [
        "### Exercício 3\n",
        "\n",
        "Crie uma matriz NumPy (2x3): [[1, 2, 3], [4, 5, 6]] e então adicione o vetor\n",
        "[10, 20, 30] a cada linha da matriz usando broadcasting, multiplique a matriz\n",
        "resultante pelo escalar 2 e Imprima a matriz inicial, após soma e após\n",
        "multiplicação."
      ],
      "metadata": {
        "id": "VDVG-07NNQep"
      }
    },
    {
      "cell_type": "code",
      "source": [
        "m_arr = np.array([[1, 2, 3], [4, 5, 6]])\n",
        "v = np.array([10, 20, 30])\n",
        "\n",
        "adc = m_arr + v\n",
        "\n",
        "escalar = adc * 2\n",
        "\n",
        "print(\"Matriz original: \")\n",
        "print(m_arr)\n",
        "\n",
        "print(\"\\nAdição do vetor: \")\n",
        "print(v)\n",
        "\n",
        "print(\"\\nSoma da matriz origial: \")\n",
        "print(adc)\n",
        "print(\"\\nMultiplicação da Matriz origial: \")\n",
        "print(escalar)\n"
      ],
      "metadata": {
        "colab": {
          "base_uri": "https://localhost:8080/"
        },
        "id": "cd0Y8fn3NUYo",
        "outputId": "bb026dda-bc50-4df5-cda4-8595cc25178c"
      },
      "execution_count": 110,
      "outputs": [
        {
          "output_type": "stream",
          "name": "stdout",
          "text": [
            "Matriz original: \n",
            "[[1 2 3]\n",
            " [4 5 6]]\n",
            "\n",
            "Adição do vetor: \n",
            "[10 20 30]\n",
            "\n",
            "Soma da matriz origial: \n",
            "[[11 22 33]\n",
            " [14 25 36]]\n",
            "\n",
            "Multiplicação da Matriz origial: \n",
            "[[22 44 66]\n",
            " [28 50 72]]\n"
          ]
        }
      ]
    },
    {
      "cell_type": "markdown",
      "source": [
        "### Exercício 4\n",
        "\n",
        "Crie um array de dimensões (3,1) com valores [10, 20, 30] e então crie\n",
        "outro array unidimensional com valores [1, 2, 3]. Utilize broadcasting para\n",
        "multiplicar esses arrays gerando uma matriz (3x3)por fim imprima claramente\n",
        "os arrays originais e a matriz final."
      ],
      "metadata": {
        "id": "Nx7teo8-NUnZ"
      }
    },
    {
      "cell_type": "code",
      "source": [
        "dim_arr = np.array([[10], [20], [30]])\n",
        "uni_di = np.array([1, 2, 3])\n",
        "\n",
        "matriz_n = dim_arr * uni_di\n",
        "\n",
        "print(\"\\nArray dimensional (3,1): \")\n",
        "print(dim_arr)\n",
        "print(\"\\nArray unidimensional: \")\n",
        "print(uni_di)\n",
        "\n",
        "print(\"\\nMultiplicação: \")\n",
        "print(matriz_n)\n",
        "\n"
      ],
      "metadata": {
        "colab": {
          "base_uri": "https://localhost:8080/"
        },
        "id": "1r3GuQ6ZNX6I",
        "outputId": "a3803178-1f9e-4318-8d6c-4af2155ee987"
      },
      "execution_count": 126,
      "outputs": [
        {
          "output_type": "stream",
          "name": "stdout",
          "text": [
            "\n",
            "Array dimensional (3,1): \n",
            "[[10]\n",
            " [20]\n",
            " [30]]\n",
            "\n",
            "Array unidimensional: \n",
            "[1 2 3]\n",
            "\n",
            "Multiplicação: \n",
            "[[10 20 30]\n",
            " [20 40 60]\n",
            " [30 60 90]]\n"
          ]
        }
      ]
    }
  ]
}