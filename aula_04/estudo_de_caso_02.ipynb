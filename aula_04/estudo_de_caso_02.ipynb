{
  "nbformat": 4,
  "nbformat_minor": 0,
  "metadata": {
    "colab": {
      "provenance": [],
      "authorship_tag": "ABX9TyNS9MMnm9kW8xtcECJRf8Og",
      "include_colab_link": true
    },
    "kernelspec": {
      "name": "python3",
      "display_name": "Python 3"
    },
    "language_info": {
      "name": "python"
    }
  },
  "cells": [
    {
      "cell_type": "markdown",
      "metadata": {
        "id": "view-in-github",
        "colab_type": "text"
      },
      "source": [
        "<a href=\"https://colab.research.google.com/github/SteAmarante/python-data-science/blob/main/aula_04/estudo_de_caso_02.ipynb\" target=\"_parent\"><img src=\"https://colab.research.google.com/assets/colab-badge.svg\" alt=\"Open In Colab\"/></a>"
      ]
    },
    {
      "cell_type": "markdown",
      "source": [
        "#Rede de Sensores Oceânicos 4‑D"
      ],
      "metadata": {
        "id": "KKjkcgMCG8RL"
      }
    },
    {
      "cell_type": "markdown",
      "source": [
        "1. Cenário\n",
        "\n",
        "A empresa instalou uma malha de boias inteligentes que medem em quatro dimensões:\n",
        "- (0 m, 5 m, 10 m → 3 níveis)\n",
        "- (10 pontos)\n",
        "- (12 pontos)\n",
        "- (24 leituras em um dia)\n",
        "\n",
        "Os engenheiros querem simular essa rede completa e extrair estatísticas , praticando criação e manipulação de (ndarrays 4‑D)"
      ],
      "metadata": {
        "id": "tquUQ2ZfHAna"
      }
    },
    {
      "cell_type": "code",
      "source": [
        "import numpy as np"
      ],
      "metadata": {
        "id": "zkBUJuJSIau6"
      },
      "execution_count": 174,
      "outputs": []
    },
    {
      "cell_type": "code",
      "source": [
        "#Criar tensor de dados\n",
        "# 1. Criar tensor 4-D: profundidade (3) x latitude (10) x longitude (12) x tempo(24h)\n",
        "\n",
        "tensor = np.random.randint(low=12, high=31, size=(3, 10, 12, 24)).astype(float)\n",
        "print(tensor)"
      ],
      "metadata": {
        "colab": {
          "base_uri": "https://localhost:8080/"
        },
        "id": "bT7Ozw8tHmMx",
        "outputId": "216d0c1f-7a40-4f5e-84ea-270a2b608266"
      },
      "execution_count": 175,
      "outputs": [
        {
          "output_type": "stream",
          "name": "stdout",
          "text": [
            "[[[[15. 16. 29. ... 26. 24. 26.]\n",
            "   [30. 27. 26. ... 14. 17. 19.]\n",
            "   [30. 22. 25. ... 21. 28. 24.]\n",
            "   ...\n",
            "   [24. 12. 18. ... 12. 30. 25.]\n",
            "   [21. 12. 17. ... 25. 26. 27.]\n",
            "   [16. 25. 29. ... 29. 17. 17.]]\n",
            "\n",
            "  [[17. 14. 26. ... 13. 30. 23.]\n",
            "   [13. 23. 12. ... 26. 17. 17.]\n",
            "   [20. 28. 29. ... 19. 20. 26.]\n",
            "   ...\n",
            "   [22. 21. 23. ... 23. 23. 25.]\n",
            "   [19. 20. 26. ... 23. 13. 27.]\n",
            "   [12. 17. 20. ... 25. 17. 28.]]\n",
            "\n",
            "  [[24. 23. 25. ... 25. 26. 17.]\n",
            "   [27. 25. 13. ... 21. 27. 30.]\n",
            "   [28. 14. 21. ... 13. 16. 15.]\n",
            "   ...\n",
            "   [27. 17. 24. ... 24. 16. 17.]\n",
            "   [18. 30. 12. ... 12. 24. 20.]\n",
            "   [23. 26. 26. ... 29. 17. 13.]]\n",
            "\n",
            "  ...\n",
            "\n",
            "  [[22. 12. 15. ... 12. 24. 23.]\n",
            "   [17. 24. 26. ... 19. 27. 23.]\n",
            "   [24. 27. 13. ... 23. 17. 19.]\n",
            "   ...\n",
            "   [25. 19. 16. ... 14. 12. 17.]\n",
            "   [21. 24. 17. ... 14. 23. 21.]\n",
            "   [24. 12. 29. ... 18. 23. 20.]]\n",
            "\n",
            "  [[15. 29. 23. ... 24. 14. 12.]\n",
            "   [13. 19. 26. ... 13. 14. 30.]\n",
            "   [27. 19. 30. ... 17. 14. 25.]\n",
            "   ...\n",
            "   [20. 27. 28. ... 13. 14. 16.]\n",
            "   [15. 30. 19. ... 15. 29. 23.]\n",
            "   [30. 15. 26. ... 13. 13. 20.]]\n",
            "\n",
            "  [[27. 25. 14. ... 21. 19. 18.]\n",
            "   [23. 27. 20. ... 29. 12. 14.]\n",
            "   [14. 13. 24. ... 27. 29. 20.]\n",
            "   ...\n",
            "   [13. 14. 28. ... 24. 13. 14.]\n",
            "   [27. 12. 25. ... 18. 23. 24.]\n",
            "   [23. 23. 28. ... 20. 23. 26.]]]\n",
            "\n",
            "\n",
            " [[[13. 29. 16. ... 19. 18. 18.]\n",
            "   [19. 22. 20. ... 20. 29. 25.]\n",
            "   [27. 23. 13. ... 24. 19. 17.]\n",
            "   ...\n",
            "   [28. 28. 22. ... 29. 30. 15.]\n",
            "   [21. 12. 28. ... 29. 17. 16.]\n",
            "   [29. 18. 30. ... 28. 26. 22.]]\n",
            "\n",
            "  [[22. 13. 12. ... 25. 15. 29.]\n",
            "   [25. 28. 21. ... 15. 27. 16.]\n",
            "   [16. 18. 14. ... 25. 24. 15.]\n",
            "   ...\n",
            "   [19. 20. 20. ... 21. 12. 13.]\n",
            "   [16. 27. 19. ... 14. 14. 25.]\n",
            "   [27. 22. 14. ... 22. 15. 23.]]\n",
            "\n",
            "  [[17. 23. 30. ... 12. 19. 18.]\n",
            "   [17. 27. 13. ... 19. 15. 23.]\n",
            "   [20. 12. 25. ... 18. 19. 25.]\n",
            "   ...\n",
            "   [22. 13. 12. ... 24. 30. 26.]\n",
            "   [21. 17. 12. ... 23. 27. 29.]\n",
            "   [24. 25. 19. ... 13. 13. 22.]]\n",
            "\n",
            "  ...\n",
            "\n",
            "  [[22. 17. 16. ... 12. 21. 24.]\n",
            "   [16. 19. 25. ... 16. 12. 25.]\n",
            "   [18. 20. 21. ... 13. 12. 16.]\n",
            "   ...\n",
            "   [25. 21. 19. ... 12. 20. 12.]\n",
            "   [18. 13. 14. ... 28. 28. 30.]\n",
            "   [21. 26. 19. ... 18. 14. 23.]]\n",
            "\n",
            "  [[15. 29. 14. ... 27. 25. 19.]\n",
            "   [24. 17. 20. ... 12. 24. 14.]\n",
            "   [27. 27. 15. ... 21. 24. 20.]\n",
            "   ...\n",
            "   [21. 22. 21. ... 27. 13. 14.]\n",
            "   [13. 22. 19. ... 19. 24. 25.]\n",
            "   [29. 24. 23. ... 25. 26. 16.]]\n",
            "\n",
            "  [[15. 30. 23. ... 14. 29. 20.]\n",
            "   [14. 13. 24. ... 16. 14. 23.]\n",
            "   [28. 27. 23. ... 16. 26. 14.]\n",
            "   ...\n",
            "   [19. 20. 28. ... 12. 16. 27.]\n",
            "   [23. 30. 24. ... 13. 21. 18.]\n",
            "   [19. 12. 25. ... 23. 16. 27.]]]\n",
            "\n",
            "\n",
            " [[[19. 12. 15. ... 19. 28. 14.]\n",
            "   [14. 18. 23. ... 28. 18. 28.]\n",
            "   [12. 13. 18. ... 28. 15. 16.]\n",
            "   ...\n",
            "   [19. 14. 25. ... 18. 23. 20.]\n",
            "   [21. 13. 25. ... 22. 27. 21.]\n",
            "   [22. 20. 19. ... 27. 15. 17.]]\n",
            "\n",
            "  [[21. 20. 28. ... 23. 20. 18.]\n",
            "   [16. 14. 24. ... 28. 12. 22.]\n",
            "   [30. 18. 29. ... 24. 18. 28.]\n",
            "   ...\n",
            "   [18. 12. 16. ... 22. 18. 21.]\n",
            "   [28. 19. 29. ... 18. 21. 14.]\n",
            "   [14. 25. 29. ... 23. 28. 22.]]\n",
            "\n",
            "  [[18. 22. 23. ... 30. 14. 28.]\n",
            "   [29. 14. 28. ... 30. 26. 14.]\n",
            "   [21. 27. 17. ... 23. 22. 17.]\n",
            "   ...\n",
            "   [16. 19. 15. ... 18. 22. 25.]\n",
            "   [16. 29. 21. ... 27. 14. 14.]\n",
            "   [18. 13. 22. ... 14. 12. 29.]]\n",
            "\n",
            "  ...\n",
            "\n",
            "  [[17. 25. 22. ... 24. 13. 19.]\n",
            "   [27. 19. 21. ... 15. 17. 24.]\n",
            "   [23. 15. 18. ... 14. 23. 24.]\n",
            "   ...\n",
            "   [26. 28. 26. ... 17. 29. 25.]\n",
            "   [15. 18. 14. ... 14. 23. 29.]\n",
            "   [28. 23. 28. ... 16. 29. 19.]]\n",
            "\n",
            "  [[27. 30. 22. ... 28. 19. 29.]\n",
            "   [21. 28. 26. ... 26. 13. 29.]\n",
            "   [28. 22. 28. ... 21. 12. 27.]\n",
            "   ...\n",
            "   [19. 28. 18. ... 26. 12. 18.]\n",
            "   [20. 30. 14. ... 20. 18. 30.]\n",
            "   [13. 22. 12. ... 21. 27. 25.]]\n",
            "\n",
            "  [[28. 30. 30. ... 17. 15. 16.]\n",
            "   [27. 18. 14. ... 12. 28. 25.]\n",
            "   [17. 30. 22. ... 21. 12. 19.]\n",
            "   ...\n",
            "   [19. 25. 22. ... 23. 22. 19.]\n",
            "   [29. 28. 28. ... 30. 13. 26.]\n",
            "   [30. 12. 12. ... 28. 22. 13.]]]]\n"
          ]
        }
      ]
    },
    {
      "cell_type": "code",
      "source": [
        "#Temperatura de todo o tensor. (Média, mínima e máxima)\n",
        "\n",
        "t_media = np.mean(tensor)\n",
        "t_min = np.min(tensor)\n",
        "t_max = np.max(tensor)\n",
        "\n",
        "print(f\"🌡️ A temperatura média de todo o tensor é de {t_media:.2f}\")\n",
        "print(f\"\\n🌡️ A temperatura mínima de todo o tensor é de {t_min}\")\n",
        "print(f\"\\n🌡️ A temperatura máxima de todo o tensor é de {t_max}\")"
      ],
      "metadata": {
        "colab": {
          "base_uri": "https://localhost:8080/"
        },
        "id": "lXvyA6r0HoJC",
        "outputId": "a189fc53-6e6d-47df-9c06-a247067abfc4"
      },
      "execution_count": 176,
      "outputs": [
        {
          "output_type": "stream",
          "name": "stdout",
          "text": [
            "🌡️ A temperatura média de todo o tensor é de 21.03\n",
            "\n",
            "🌡️ A temperatura mínima de todo o tensor é de 12.0\n",
            "\n",
            "🌡️ A temperatura máxima de todo o tensor é de 30.0\n"
          ]
        }
      ]
    },
    {
      "cell_type": "code",
      "source": [
        "# Vetor de médias para 0 m, 5 m, 10 m.  (Média por profundidade)\n",
        "media_prof = tensor.mean(axis=(1,2,3))\n",
        "print(\"A média de temperatura nas camadas 0m, 5m  e 10m são: \")\n",
        "for i in range(3):\n",
        "  print(f\"{media_prof[i]:.2f}\")"
      ],
      "metadata": {
        "colab": {
          "base_uri": "https://localhost:8080/"
        },
        "id": "Unby_3G_H-My",
        "outputId": "ae27ff8b-9bde-45e8-8eff-187c192107b6"
      },
      "execution_count": 177,
      "outputs": [
        {
          "output_type": "stream",
          "name": "stdout",
          "text": [
            "A média de temperatura nas camadas 0m, 5m  e 10m são: \n",
            "21.04\n",
            "21.00\n",
            "21.06\n"
          ]
        }
      ]
    },
    {
      "cell_type": "code",
      "source": [
        "#  “Mapa” de pico horário (máximo ao longo do dia) (Criar um tensor com os valores máximos a longo do dia) Mostrar o Shape dele\n",
        "tensor_pico  = tensor.max(axis=3)\n",
        "tensor_pico.shape"
      ],
      "metadata": {
        "colab": {
          "base_uri": "https://localhost:8080/"
        },
        "id": "Aaaw0Tp1TEy9",
        "outputId": "22f3af2c-86e8-4993-e3ae-cc8d94241aaa"
      },
      "execution_count": 178,
      "outputs": [
        {
          "output_type": "execute_result",
          "data": {
            "text/plain": [
              "(3, 10, 12)"
            ]
          },
          "metadata": {},
          "execution_count": 178
        }
      ]
    },
    {
      "cell_type": "code",
      "source": [
        "# Hot‑spot = leitura ≥ 28 °C. Conte quantos hot‑spots por profundidade.\n",
        "hot_spot = tensor>=28\n",
        "hot_spot_prof = hot_spot.sum(axis=(1,2,3))\n",
        "print(f\"Foram encontradas {hot_spot_prof} com leitura ≥ 28 °C.\")"
      ],
      "metadata": {
        "colab": {
          "base_uri": "https://localhost:8080/"
        },
        "id": "sn_D5Y3hIC46",
        "outputId": "0a82ad43-3836-47ec-cf9a-0b3b6cdffbfe"
      },
      "execution_count": 179,
      "outputs": [
        {
          "output_type": "stream",
          "name": "stdout",
          "text": [
            "Foram encontradas [466 458 508] com leitura ≥ 28 °C.\n"
          ]
        }
      ]
    },
    {
      "cell_type": "code",
      "source": [
        "#  Broadcasting para alarme. Sensor da superfície (profundidade índice 0) ficou fora de calibração\n",
        "tensor_calibrar = tensor[0]-0.8\n",
        "print(f'Média antes de calibrar: {tensor[0].mean():.2f} ºC')\n",
        "\n",
        "print(f'\\nMédia depois de calibrar: {tensor_calibrar.mean():.2f} ºC')"
      ],
      "metadata": {
        "colab": {
          "base_uri": "https://localhost:8080/"
        },
        "id": "mQX7m797IFwp",
        "outputId": "e659fc02-2453-4f49-8142-4816a5c311b2"
      },
      "execution_count": 180,
      "outputs": [
        {
          "output_type": "stream",
          "name": "stdout",
          "text": [
            "Média antes de calibrar: 21.04 ºC\n",
            "\n",
            "Média depois de calibrar: 20.24 ºC\n"
          ]
        }
      ]
    },
    {
      "cell_type": "code",
      "source": [
        "# Use slicing para remover 1 lat & 1 long nos extremos → resultado 3 × 8 × 10 × 24.\n",
        "\n",
        "t_n = tensor[ : , 1:-1, 1:-1, : ]\n",
        "print(t_n.shape)"
      ],
      "metadata": {
        "colab": {
          "base_uri": "https://localhost:8080/"
        },
        "id": "a5hhylQqIJ3a",
        "outputId": "c2327f6c-a37f-4935-d856-a2832bf0f321"
      },
      "execution_count": 191,
      "outputs": [
        {
          "output_type": "stream",
          "name": "stdout",
          "text": [
            "(3, 8, 10, 24)\n"
          ]
        }
      ]
    },
    {
      "cell_type": "code",
      "source": [
        "# Qual hora do dia tende a ser mais quente na camada de 5 m?”\n",
        "# Calcule média ao longo de lat/long e encontre índice do argmax em eixo tempo.\n",
        "# Converta para horário (0‑23 h) e discuta possível explicação.\n",
        "\n"
      ],
      "metadata": {
        "id": "jnHiF_wwIPYx"
      },
      "execution_count": 182,
      "outputs": []
    }
  ]
}