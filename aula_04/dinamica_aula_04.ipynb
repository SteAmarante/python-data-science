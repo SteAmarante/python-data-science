{
  "nbformat": 4,
  "nbformat_minor": 0,
  "metadata": {
    "colab": {
      "provenance": [],
      "authorship_tag": "ABX9TyO7xGVK2+Kbyx4SstbH5Zz+",
      "include_colab_link": true
    },
    "kernelspec": {
      "name": "python3",
      "display_name": "Python 3"
    },
    "language_info": {
      "name": "python"
    }
  },
  "cells": [
    {
      "cell_type": "markdown",
      "metadata": {
        "id": "view-in-github",
        "colab_type": "text"
      },
      "source": [
        "<a href=\"https://colab.research.google.com/github/SteAmarante/python-data-science/blob/main/aula_04/dinamica_aula_04.ipynb\" target=\"_parent\"><img src=\"https://colab.research.google.com/assets/colab-badge.svg\" alt=\"Open In Colab\"/></a>"
      ]
    },
    {
      "cell_type": "markdown",
      "source": [
        "#Dinâmica em Grupo: “Comparando Turmas”\n",
        "\n",
        "Tarefas do grupo:\n",
        "- Calcular: .ndim, .shape, .mean(), .std(), .min(), .max().\n",
        "- Contar aprovados (>=7) e reprovados.\n",
        "- Concatenar ambas e comparar médias.\n",
        "- (Opcional) aplicar sqrt() ou log() nos arrays.\n",
        "\n",
        "\n",
        "Resultados esperados:\n",
        "Texto de resumo com resultados comparativos, destacando insights.\n",
        "\n",
        "Dados:\n",
        "\n",
        "- turmaA = np.random.randint(0,11, size=15)\n",
        "- turmaB = np.random.randint(0,11, size=15)"
      ],
      "metadata": {
        "id": "zGj6fEzarByH"
      }
    },
    {
      "cell_type": "code",
      "execution_count": 246,
      "metadata": {
        "id": "3EOtaI5gqpFF"
      },
      "outputs": [],
      "source": [
        "import numpy as np"
      ]
    },
    {
      "cell_type": "code",
      "source": [
        "#parametros\n",
        "turmaA = np.random.randint(0,11, size=15)\n",
        "turmaB = np.random.randint(0,11, size=15)\n",
        "print(turmaA)\n",
        "print(\"\\n\")\n",
        "print(turmaB)"
      ],
      "metadata": {
        "colab": {
          "base_uri": "https://localhost:8080/"
        },
        "id": "GlxqxkvdrigW",
        "outputId": "21b7a40d-2172-4990-f601-91f71bbcb376"
      },
      "execution_count": 247,
      "outputs": [
        {
          "output_type": "stream",
          "name": "stdout",
          "text": [
            "[ 2  0  6  2  5  4  3  9 10  8  3 10  3  9  5]\n",
            "\n",
            "\n",
            "[ 7  1 10  4  0 10  1 10  8  9  3  4  5  5  6]\n"
          ]
        }
      ]
    },
    {
      "cell_type": "code",
      "source": [
        "#Calcular: .ndim, .shape, .mean(), .std(), .min(), .max().\n",
        "print(\"Usando o comando (.ndim): \\n\")\n",
        "print(\"Turma A: \")\n",
        "print(turmaA.ndim)\n",
        "print(\"Turma B: \")\n",
        "print(turmaB.ndim)\n",
        "\n",
        "print(\"\\nUsando o comando (.shape): \\n\")\n",
        "print(\"Turma A: \")\n",
        "print(turmaA.shape)\n",
        "print(\"Turma B: \")\n",
        "print(turmaB.shape)\n",
        "\n",
        "print(\"\\nUsando o comando (.mean()): \\n\")\n",
        "print(\"Turma A: \")\n",
        "print(np.mean(turmaA))\n",
        "print(\"Turma B: \")\n",
        "print(np.mean(turmaB))\n",
        "\n",
        "print(\"\\nUsando o comando (.std()): \\n\")\n",
        "print(\"Turma A: \")\n",
        "print(np.std(turmaA))\n",
        "print(\"Turma B: \")\n",
        "print(np.std(turmaB))\n",
        "\n",
        "print(\"\\nUsando o comando (.min()): \\n\")\n",
        "print(\"Turma A: \")\n",
        "print(np.min(turmaA))\n",
        "print(\"Turma B: \")\n",
        "print(np.min(turmaB))\n",
        "\n",
        "\n",
        "print(\"\\nUsando o comando (.max()): \\n\")\n",
        "print(\"Turma A: \")\n",
        "print(np.max(turmaA))\n",
        "print(\"Turma B: \")\n",
        "print(np.max(turmaB))"
      ],
      "metadata": {
        "colab": {
          "base_uri": "https://localhost:8080/"
        },
        "id": "ClsO6NISrkVe",
        "outputId": "31f17794-32fc-4119-9421-512aa4b5f7cd"
      },
      "execution_count": 248,
      "outputs": [
        {
          "output_type": "stream",
          "name": "stdout",
          "text": [
            "Usando o comando (.ndim): \n",
            "\n",
            "Turma A: \n",
            "1\n",
            "Turma B: \n",
            "1\n",
            "\n",
            "Usando o comando (.shape): \n",
            "\n",
            "Turma A: \n",
            "(15,)\n",
            "Turma B: \n",
            "(15,)\n",
            "\n",
            "Usando o comando (.mean()): \n",
            "\n",
            "Turma A: \n",
            "5.266666666666667\n",
            "Turma B: \n",
            "5.533333333333333\n",
            "\n",
            "Usando o comando (.std()): \n",
            "\n",
            "Turma A: \n",
            "3.129785225148134\n",
            "Turma B: \n",
            "3.3038697848970306\n",
            "\n",
            "Usando o comando (.min()): \n",
            "\n",
            "Turma A: \n",
            "0\n",
            "Turma B: \n",
            "0\n",
            "\n",
            "Usando o comando (.max()): \n",
            "\n",
            "Turma A: \n",
            "10\n",
            "Turma B: \n",
            "10\n"
          ]
        }
      ]
    },
    {
      "cell_type": "code",
      "source": [
        "#Contar aprovados (>=7) e reprovados.\n",
        "\n",
        "turmaA[turmaA>=7]\n",
        "print(\"\\nTurma A: \")\n",
        "print(f\"✅ Notas dos aprovados: {turmaA[turmaA>=7]} \")\n",
        "print(f\"✅ Foram aprovados {turmaA[turmaA>=7].size} alunos.\")\n",
        "\n",
        "turmaA[turmaA<7]\n",
        "print(f\"❌Notas dos reprovados: {turmaA[turmaA<7]} \")\n",
        "print(f\"❌Foram reprovados {turmaA[turmaA<7].size} alunos.\")\n",
        "\n",
        "\n",
        "turmaB[turmaB>=7]\n",
        "print(\"\\nTurma B: \")\n",
        "print(f\"✅ Notas dos aprovados: {turmaB[turmaB>=7]} \")\n",
        "print(f\"✅ Foram aprovados {turmaB[turmaB>=7].size} alunos.\")\n",
        "\n",
        "turmaB[turmaB<7]\n",
        "print(f\"❌Notas dos reprovados: {turmaB[turmaB<7]} \")\n",
        "print(f\"❌Foram reprovados {turmaB[turmaB<7].size} alunos.\")"
      ],
      "metadata": {
        "colab": {
          "base_uri": "https://localhost:8080/"
        },
        "id": "IkyySbM7uE2v",
        "outputId": "777fab5e-67d7-4847-822f-69aa6ee6b2c3"
      },
      "execution_count": 249,
      "outputs": [
        {
          "output_type": "stream",
          "name": "stdout",
          "text": [
            "\n",
            "Turma A: \n",
            "✅ Notas dos aprovados: [ 9 10  8 10  9] \n",
            "✅ Foram aprovados 5 alunos.\n",
            "❌Notas dos reprovados: [2 0 6 2 5 4 3 3 3 5] \n",
            "❌Foram reprovados 10 alunos.\n",
            "\n",
            "Turma B: \n",
            "✅ Notas dos aprovados: [ 7 10 10 10  8  9] \n",
            "✅ Foram aprovados 6 alunos.\n",
            "❌Notas dos reprovados: [1 4 0 1 3 4 5 5 6] \n",
            "❌Foram reprovados 9 alunos.\n"
          ]
        }
      ]
    },
    {
      "cell_type": "code",
      "source": [
        "#Concatenar ambas e comparar médias.\n",
        "\n",
        "concat = np.concatenate((turmaA, turmaB))\n",
        "print(f\"A média total é: {np.mean(concat)}.\")\n",
        "\n",
        "print(f\"\\nA média da turma A é {np.mean(turmaA)} e da turma B é {np.mean(turmaB)}.\")\n"
      ],
      "metadata": {
        "colab": {
          "base_uri": "https://localhost:8080/"
        },
        "id": "S9B9B6NK0rkm",
        "outputId": "ce8c510a-7800-41f9-a4e2-91004a35ae0b"
      },
      "execution_count": 250,
      "outputs": [
        {
          "output_type": "stream",
          "name": "stdout",
          "text": [
            "A média total é: 5.4.\n",
            "\n",
            "A média da turma A é 5.266666666666667 e da turma B é 5.533333333333333.\n"
          ]
        }
      ]
    },
    {
      "cell_type": "code",
      "source": [
        "#aplicar sqrt() ou log() nos arrays.\n",
        "\n",
        "turmaA[turmaA != 0]\n",
        "turmaB[turmaB != 0]\n",
        "\n",
        "raiz_A = np.sqrt(turmaA[turmaA != 0])\n",
        "raiz_B = np.sqrt(turmaB[turmaB != 0])\n",
        "\n",
        "print(f\"√ A raiz quadrada da turma A \\n{raiz_A}.\\n\")\n",
        "print(f\"\\n√ A raiz quadrada da turma B \\n{raiz_B}.\")"
      ],
      "metadata": {
        "colab": {
          "base_uri": "https://localhost:8080/"
        },
        "id": "xJTEcqT82sfw",
        "outputId": "f10eec0d-c60b-425a-bc45-d18bcfd38c7a"
      },
      "execution_count": 251,
      "outputs": [
        {
          "output_type": "stream",
          "name": "stdout",
          "text": [
            "√ A raiz quadrada da turma A \n",
            "[1.41421356 2.44948974 1.41421356 2.23606798 2.         1.73205081\n",
            " 3.         3.16227766 2.82842712 1.73205081 3.16227766 1.73205081\n",
            " 3.         2.23606798].\n",
            "\n",
            "\n",
            "√ A raiz quadrada da turma B \n",
            "[2.64575131 1.         3.16227766 2.         3.16227766 1.\n",
            " 3.16227766 2.82842712 3.         1.73205081 2.         2.23606798\n",
            " 2.23606798 2.44948974].\n"
          ]
        }
      ]
    },
    {
      "cell_type": "code",
      "source": [
        "turmaA[turmaA != 0]\n",
        "turmaB[turmaB != 0]\n",
        "\n",
        "log_A = np.log(turmaA[turmaA != 0])\n",
        "log_B = np.log(turmaB[turmaB != 0])\n",
        "\n",
        "print(f\"🔢O log da turma A \\n{log_A}.\\n\")\n",
        "print(f\"\\n🔢 O log da turma B \\n{log_B}.\")"
      ],
      "metadata": {
        "colab": {
          "base_uri": "https://localhost:8080/"
        },
        "id": "LNlOo0584Lc3",
        "outputId": "cdce5d63-1c04-4ed9-e172-e5ecaf385ef3"
      },
      "execution_count": 252,
      "outputs": [
        {
          "output_type": "stream",
          "name": "stdout",
          "text": [
            "🔢O log da turma A \n",
            "[0.69314718 1.79175947 0.69314718 1.60943791 1.38629436 1.09861229\n",
            " 2.19722458 2.30258509 2.07944154 1.09861229 2.30258509 1.09861229\n",
            " 2.19722458 1.60943791].\n",
            "\n",
            "\n",
            "🔢 O log da turma B \n",
            "[1.94591015 0.         2.30258509 1.38629436 2.30258509 0.\n",
            " 2.30258509 2.07944154 2.19722458 1.09861229 1.38629436 1.60943791\n",
            " 1.60943791 1.79175947].\n"
          ]
        }
      ]
    }
  ]
}